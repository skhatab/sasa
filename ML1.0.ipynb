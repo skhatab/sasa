{
    "cells": [
        {
            "cell_type": "code",
            "execution_count": 4,
            "metadata": {},
            "outputs": [],
            "source": "import numpy as np"
        },
        {
            "cell_type": "code",
            "execution_count": 3,
            "metadata": {},
            "outputs": [
                {
                    "name": "stdout",
                    "output_type": "stream",
                    "text": "<class 'list'>\n"
                }
            ],
            "source": "num =[1,2,3]\nprint(type(num))"
        },
        {
            "cell_type": "code",
            "execution_count": 4,
            "metadata": {},
            "outputs": [
                {
                    "name": "stdout",
                    "output_type": "stream",
                    "text": "<class 'numpy.ndarray'>\n[1 2 3]\n"
                }
            ],
            "source": "# vector\nnumv = np.array(num)\nprint(type(numv))\nprint(numv)"
        },
        {
            "cell_type": "code",
            "execution_count": 5,
            "metadata": {},
            "outputs": [
                {
                    "name": "stdout",
                    "output_type": "stream",
                    "text": "<class 'list'>\n<class 'numpy.ndarray'>\n[[1 2]\n [3 4]]\n"
                }
            ],
            "source": "numlist=[[1,2],[3,4]]\nprint(type(numlist))\n#matrix\nnumma=np.array(numlist)\nprint(type(numma))\nprint(numma)"
        },
        {
            "cell_type": "code",
            "execution_count": 7,
            "metadata": {},
            "outputs": [
                {
                    "name": "stdout",
                    "output_type": "stream",
                    "text": "4\n"
                }
            ],
            "source": "print(numma.size)"
        },
        {
            "cell_type": "code",
            "execution_count": 28,
            "metadata": {},
            "outputs": [],
            "source": "import numpy as np"
        },
        {
            "cell_type": "code",
            "execution_count": 33,
            "metadata": {},
            "outputs": [
                {
                    "name": "stdout",
                    "output_type": "stream",
                    "text": "[ 0  1  2  3  4  5  6  7  8  9 10 11 12 13 14 15 16 17 18 19 20 21 22 23\n 24]\n"
                }
            ],
            "source": "arr = np.arange(25)\nprint(arr)"
        },
        {
            "cell_type": "code",
            "execution_count": 54,
            "metadata": {},
            "outputs": [
                {
                    "name": "stdout",
                    "output_type": "stream",
                    "text": "[15 26 14  2 14 35 47 41 40 44 15 11 23 38 33 15  5 48 23 33]\n"
                }
            ],
            "source": "randarr = np.random.randint(1,50,20)\nprint(randarr)"
        },
        {
            "cell_type": "code",
            "execution_count": 47,
            "metadata": {},
            "outputs": [
                {
                    "name": "stdout",
                    "output_type": "stream",
                    "text": "2 at  2\n49 at  5\n"
                }
            ],
            "source": "maxnum = randarr.max()\nminnum = randarr.min()\nmaxarg = randarr.argmax()\nminarg = randarr.argmin()\nprint(minnum , \"at \", minarg)\nprint(maxnum , \"at \" , maxarg)"
        },
        {
            "cell_type": "code",
            "execution_count": 55,
            "metadata": {},
            "outputs": [
                {
                    "name": "stdout",
                    "output_type": "stream",
                    "text": "[[15 26 14  2 14 35 47 41 40 44]\n [15 11 23 38 33 15  5 48 23 33]]\n"
                }
            ],
            "source": "rand2d = np.reshape(randarr,(2,10))\nprint(rand2d)"
        },
        {
            "cell_type": "code",
            "execution_count": 59,
            "metadata": {},
            "outputs": [
                {
                    "name": "stdout",
                    "output_type": "stream",
                    "text": "(25,) int64\n(20,) int64\n(2, 10)\n"
                }
            ],
            "source": "print(np.shape(arr),arr.dtype)\nprint(np.shape(randarr),randarr.dtype)\nprint(np.shape(rand2d))"
        },
        {
            "cell_type": "code",
            "execution_count": null,
            "metadata": {},
            "outputs": [],
            "source": "# 1D vector slicing and Indexing"
        },
        {
            "cell_type": "code",
            "execution_count": 5,
            "metadata": {},
            "outputs": [
                {
                    "name": "stdout",
                    "output_type": "stream",
                    "text": "[0 1 2 3 4 5 6 7 8 9]\n[6 9 5 9 8]\n"
                },
                {
                    "data": {
                        "text/plain": "array([9, 5])"
                    },
                    "execution_count": 5,
                    "metadata": {},
                    "output_type": "execute_result"
                }
            ],
            "source": "a= np.arange(10)\nprint(a)\na[1]\nra = np.random.randint(1,10,5)\nprint(ra)\nra[1:3]"
        },
        {
            "cell_type": "markdown",
            "metadata": {},
            "source": "ra[1:3]=100"
        },
        {
            "cell_type": "code",
            "execution_count": 7,
            "metadata": {},
            "outputs": [],
            "source": "# value broadcasting\nra[1:3] = 100"
        },
        {
            "cell_type": "code",
            "execution_count": 9,
            "metadata": {},
            "outputs": [
                {
                    "name": "stdout",
                    "output_type": "stream",
                    "text": "[  6 100 100   9   8]\n"
                }
            ],
            "source": "print(ra) # avoid stack or heap Memory overflow"
        },
        {
            "cell_type": "code",
            "execution_count": null,
            "metadata": {},
            "outputs": [],
            "source": "# 2D Matrix slicing and indexing"
        },
        {
            "cell_type": "code",
            "execution_count": 11,
            "metadata": {},
            "outputs": [],
            "source": "randmat = np.random.randn(5,5)"
        },
        {
            "cell_type": "code",
            "execution_count": 12,
            "metadata": {},
            "outputs": [
                {
                    "name": "stdout",
                    "output_type": "stream",
                    "text": "[[ 0.45326421 -1.37891192  1.28614585 -0.03094046 -0.63134652]\n [-0.09781768  0.3553627   1.81113637 -0.22749238 -0.65477002]\n [ 0.55177854  0.6036429  -0.32948189  0.79441372  0.36392284]\n [ 1.29137215 -0.51218998 -1.04735916 -0.345037   -0.38789855]\n [-0.5396232   0.19419001  0.76756985  0.48963671 -1.38528724]]\n"
                }
            ],
            "source": "print(randmat)"
        },
        {
            "cell_type": "code",
            "execution_count": 15,
            "metadata": {},
            "outputs": [
                {
                    "name": "stdout",
                    "output_type": "stream",
                    "text": "[ 0.45326421 -1.37891192  1.28614585 -0.03094046 -0.63134652]\n"
                }
            ],
            "source": "print(randmat[0])"
        },
        {
            "cell_type": "code",
            "execution_count": 16,
            "metadata": {},
            "outputs": [
                {
                    "name": "stdout",
                    "output_type": "stream",
                    "text": "-1.3789119187614012\n"
                }
            ],
            "source": "print(randmat[0][1])"
        },
        {
            "cell_type": "code",
            "execution_count": 19,
            "metadata": {},
            "outputs": [
                {
                    "name": "stdout",
                    "output_type": "stream",
                    "text": "0.45326420710977217\n"
                }
            ],
            "source": "print(randmat[0,0])"
        },
        {
            "cell_type": "code",
            "execution_count": 20,
            "metadata": {},
            "outputs": [
                {
                    "name": "stdout",
                    "output_type": "stream",
                    "text": "[[ 0.45326421 -1.37891192]\n [-0.09781768  0.3553627 ]]\n"
                }
            ],
            "source": "# slicing is important in image processing , Object recognition\nprint(randmat[0:2,0:2])"
        },
        {
            "cell_type": "code",
            "execution_count": 21,
            "metadata": {},
            "outputs": [
                {
                    "name": "stdout",
                    "output_type": "stream",
                    "text": "[[ True False  True False False]\n [False  True  True False False]\n [ True  True False  True  True]\n [ True False False False False]\n [False  True  True  True False]]\n"
                }
            ],
            "source": "print(randmat > 0)"
        },
        {
            "cell_type": "code",
            "execution_count": 22,
            "metadata": {},
            "outputs": [
                {
                    "name": "stdout",
                    "output_type": "stream",
                    "text": "[[ 0.45326421 -1.37891192  1.28614585 -0.03094046 -0.63134652]\n [-0.09781768  0.3553627   1.81113637 -0.22749238 -0.65477002]\n [ 0.55177854  0.6036429  -0.32948189  0.79441372  0.36392284]\n [ 1.29137215 -0.51218998 -1.04735916 -0.345037   -0.38789855]\n [-0.5396232   0.19419001  0.76756985  0.48963671 -1.38528724]]\n"
                }
            ],
            "source": "print(randmat) # mask"
        },
        {
            "cell_type": "code",
            "execution_count": 23,
            "metadata": {},
            "outputs": [],
            "source": "res = randmat > 0"
        },
        {
            "cell_type": "code",
            "execution_count": 24,
            "metadata": {},
            "outputs": [
                {
                    "name": "stdout",
                    "output_type": "stream",
                    "text": "[0.45326421 1.28614585 0.3553627  1.81113637 0.55177854 0.6036429\n 0.79441372 0.36392284 1.29137215 0.19419001 0.76756985 0.48963671]\n"
                }
            ],
            "source": "print(randmat[res]) # "
        },
        {
            "cell_type": "code",
            "execution_count": 27,
            "metadata": {},
            "outputs": [
                {
                    "name": "stdout",
                    "output_type": "stream",
                    "text": "[0.45326421 1.28614585 0.3553627  1.81113637 0.55177854 0.6036429\n 0.79441372 0.36392284 1.29137215 0.19419001 0.76756985 0.48963671]\n"
                }
            ],
            "source": "print(randmat[randmat>0])"
        },
        {
            "cell_type": "code",
            "execution_count": null,
            "metadata": {},
            "outputs": [],
            "source": ""
        }
    ],
    "metadata": {
        "kernelspec": {
            "display_name": "Python 3.6",
            "language": "python",
            "name": "python3"
        },
        "language_info": {
            "codemirror_mode": {
                "name": "ipython",
                "version": 3
            },
            "file_extension": ".py",
            "mimetype": "text/x-python",
            "name": "python",
            "nbconvert_exporter": "python",
            "pygments_lexer": "ipython3",
            "version": "3.6.9"
        }
    },
    "nbformat": 4,
    "nbformat_minor": 1
}